{
 "cells": [
  {
   "cell_type": "markdown",
   "metadata": {},
   "source": [
    "## BONUS: Waveforms"
   ]
  },
  {
   "cell_type": "markdown",
   "metadata": {},
   "source": [
    "Load the code"
   ]
  },
  {
   "cell_type": "code",
   "execution_count": 1,
   "metadata": {},
   "outputs": [],
   "source": [
    "using GW"
   ]
  },
  {
   "cell_type": "markdown",
   "metadata": {},
   "source": [
    "Define the parameters"
   ]
  },
  {
   "cell_type": "code",
   "execution_count": 3,
   "metadata": {},
   "outputs": [],
   "source": [
    "mc = 30.0 # chirp mass at the detector frame in solar masses\n",
    "η = 0.2 # symmetric mass ratio, dimensionless \n",
    "χ_1 = 0.1 # dimensionless spin of the most massive BH\n",
    "χ_2 = 0.2 # dimensionless spin of the least massive BH\n",
    "dL = 1.0 # luminosity distance in Gpc\n",
    "θ = 45. * pi/180 # latitude in radians\n",
    "ϕ = 45. * pi/180 # longitude in radians\n",
    "ι = 45. * pi/180 # inclination angle in radians\n",
    "ψ = 45. * pi/180 # polarisation angle in radians\n",
    "tcoal = 0.0 # time of coalescence in fraction of a day, [0,1]\n",
    "Φ_coal = 0.0; # phase of coalescence in radians"
   ]
  },
  {
   "cell_type": "code",
   "execution_count": 4,
   "metadata": {},
   "outputs": [
    {
     "data": {
      "text/plain": [
       "5-element Vector{Float64}:\n",
       "    0.0\n",
       " -114.50143227769503\n",
       " -137.24768844843248\n",
       " -145.3969596589344\n",
       " -149.3539446321078"
      ]
     },
     "execution_count": 4,
     "metadata": {},
     "output_type": "execute_result"
    }
   ],
   "source": [
    "# If you are interested in just the waveforms of the events, you can use the functions\n",
    "# Ampl (for the amplitude) and Phi (for the phase)\n",
    "\n",
    "# the functions return the amplitude and the phase of the waveform, the order of the parameters is the same as always\n",
    "# you also need to provide a frequency (array or float), the function will return the amplitude and the phase at the frequencies of the array (or float)\n",
    "f = [10.0, 20.0, 30.0, 40.0, 50.0] # frequencies in Hz\n",
    "amplitude = Ampl(PhenomD(), f, mc, η, χ_1, χ_2, dL)\n",
    "phase = Phi(PhenomD(), f, mc, η, χ_1, χ_2)"
   ]
  },
  {
   "cell_type": "code",
   "execution_count": 5,
   "metadata": {},
   "outputs": [
    {
     "name": "stdout",
     "output_type": "stream",
     "text": [
      "(:two_one, :two_two, :three_two, :three_three, :four_three, :four_four)\n"
     ]
    }
   ],
   "source": [
    "# For PhenomHM() the functions Ampl() and Phase() return a structure with the amplitude for the different higher modes and the phase for the different higher modes\n",
    "\n",
    "amplitude_HM = Ampl(PhenomHM(), f, mc, η, χ_1, χ_2, dL)\n",
    "phase_HM = Phi(PhenomHM(), f, mc, η, χ_1, χ_2)\n",
    "\n",
    "println(fieldnames(typeof(amplitude_HM))) # the structure has the fields :two_one, :two_two, :three_two, :three_three, :four_three, :four_four, representing \"\\ell,m\""
   ]
  },
  {
   "cell_type": "code",
   "execution_count": 6,
   "metadata": {},
   "outputs": [
    {
     "data": {
      "text/plain": [
       "(ComplexF64[6.880710822309232e-23 - 5.58391123582779e-24im, 1.4502725769366587e-24 + 2.8371141203840045e-23im, 9.544752529582731e-24 - 1.1136207566371002e-23im, 5.806465647436113e-24 + 9.050403789379703e-24im, 1.6080193064383984e-25 - 7.679852933352146e-24im], ComplexF64[4.9122521023454565e-24 + 6.495965526165137e-23im, -2.665041984299325e-23 + 1.3361812577881502e-24im, 1.0423626996146873e-23 + 9.054822591586443e-24im, -8.610076214807407e-24 + 5.4060334301118916e-24im, 7.31113525050922e-24 + 7.036196373444586e-26im])"
      ]
     },
     "execution_count": 6,
     "metadata": {},
     "output_type": "execute_result"
    }
   ],
   "source": [
    "# To obtain the full waveform you can use the function hphc() which returns the plus and cross polarizations\n",
    "\n",
    "h_plus, h_cross = hphc(PhenomHM(), f, mc, η, χ_1, χ_2, dL, ι)\n",
    "# pay attention that you need to provide the inclination angle (in radians)"
   ]
  }
 ],
 "metadata": {
  "kernelspec": {
   "display_name": "Julia 1.10.10 1.10.10",
   "language": "julia",
   "name": "julia-1.10.10-1.10"
  },
  "language_info": {
   "file_extension": ".jl",
   "mimetype": "application/julia",
   "name": "julia",
   "version": "1.10.10"
  }
 },
 "nbformat": 4,
 "nbformat_minor": 4
}
