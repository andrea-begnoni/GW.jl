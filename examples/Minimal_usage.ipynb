{
 "cells": [
  {
   "cell_type": "markdown",
   "metadata": {},
   "source": [
    "# The basics\n",
    "In this notebook we show how to calculate:\n",
    "- the SNR\n",
    "- the Fisher Matrix\n",
    "- the covariance matrix\n",
    "\n",
    "and finally we estimate the uncertainties on the parameter from parameter estimation. <br >\n",
    "(as a general rule, auxiliary functions start with an underscore, all other functions start with a capital letter)"
   ]
  },
  {
   "cell_type": "markdown",
   "metadata": {},
   "source": [
    "Start by loading the code"
   ]
  },
  {
   "cell_type": "code",
   "execution_count": 1,
   "metadata": {},
   "outputs": [],
   "source": [
    "using GW"
   ]
  },
  {
   "cell_type": "markdown",
   "metadata": {},
   "source": [
    "### First of all, we need to decide a waveform model and a detector configuration: <br >"
   ]
  },
  {
   "cell_type": "code",
   "execution_count": 2,
   "metadata": {},
   "outputs": [
    {
     "data": {
      "text/plain": [
       "7-element Vector{String}:\n",
       " \"TaylorF2\"\n",
       " \"PhenomD\"\n",
       " \"PhenomHM\"\n",
       " \"PhenomD_NRTidal\"\n",
       " \"PhenomNSBH\"\n",
       " \"PhenomXAS\"\n",
       " \"PhenomXHM\""
      ]
     },
     "execution_count": 2,
     "metadata": {},
     "output_type": "execute_result"
    }
   ],
   "source": [
    "# check the waveforms available with this function:\n",
    "_available_waveforms()"
   ]
  },
  {
   "cell_type": "markdown",
   "metadata": {},
   "source": [
    "A short description of these possibilites:\n",
    "- TaylorF2 is a very basic waveform, not useful\n",
    "- PhenomD is a good compromise between accuracy and speed for this tutorial. Valid only for BBH\n",
    "- PhenomXHM is the most accurate waveform. The recommended one for the final results, valid only for BBH (takes a while to compile, order 5 minutes)\n",
    "- PhenomHM simpler than PhenomXHM, but still accurate. Valid only for BBH\n",
    "- PhenomD_NRTidal is the PhenomD waveform with the addition of the tidal effects. Valid only for BNS\n",
    "- PhenomNSBH is the waveform valid for NSBH\n",
    "- PhenomXAS a more refined and faster version of PhenomD. Valid only for BBH\n",
    "\n",
    "Given these possibilites, the waveform can be set in two ways:"
   ]
  },
  {
   "cell_type": "code",
   "execution_count": 3,
   "metadata": {},
   "outputs": [],
   "source": [
    "# First possibility: use the waveform directly\n",
    "wfPhenomD = PhenomD();\n",
    "\n",
    "# Second possibility: use the auxiliary function _available_waveforms() \n",
    "wfPhenomD = _available_waveforms(\"PhenomD\");"
   ]
  },
  {
   "cell_type": "markdown",
   "metadata": {},
   "source": [
    "Similarly, we can check the available detectors:"
   ]
  },
  {
   "cell_type": "code",
   "execution_count": 4,
   "metadata": {},
   "outputs": [
    {
     "name": "stdout",
     "output_type": "stream",
     "text": [
      "The detectors available are: \n"
     ]
    },
    {
     "data": {
      "text/plain": [
       "11-element Vector{String}:\n",
       " \"CE1Id, 40km\"\n",
       " \"CE2NM, 20km\"\n",
       " \"CE2NSW, 20km\"\n",
       " \"ETS, 10km\"\n",
       " \"ETLS, 10km\"\n",
       " \"ETMR, 10km\"\n",
       " \"ETLMR, 10km\"\n",
       " \"LIGO_L\"\n",
       " \"LIGO_H\"\n",
       " \"VIRGO\"\n",
       " \"KAGRA\""
      ]
     },
     "execution_count": 4,
     "metadata": {},
     "output_type": "execute_result"
    }
   ],
   "source": [
    "# check the detectors available with this function\n",
    "_available_detectors()"
   ]
  },
  {
   "cell_type": "markdown",
   "metadata": {},
   "source": [
    "For some CE/ET configurations we report the armlength in km <br >\n",
    "NB: This is not needed to call the detector e.g. _available_detectors(\"CE1Id\") <br > <br >\n",
    "\n",
    "Again, the detector can be set in two different ways:"
   ]
  },
  {
   "cell_type": "code",
   "execution_count": 5,
   "metadata": {},
   "outputs": [],
   "source": [
    "# First possibility: use the detector directly\n",
    "CE_1= CE1Id\n",
    "\n",
    "# Second possibility: use the function _available_detectors()\n",
    "CE_1 = _available_detectors(\"CE1Id\");"
   ]
  },
  {
   "cell_type": "markdown",
   "metadata": {},
   "source": [
    "We can also define networks:"
   ]
  },
  {
   "cell_type": "code",
   "execution_count": 6,
   "metadata": {},
   "outputs": [],
   "source": [
    "# define two other detectors\n",
    "CE_2 = CE2NM\n",
    "ET = ETS\n",
    "\n",
    "# put them all together in an array to define a network\n",
    "network = [CE_1, CE_2, ET];"
   ]
  },
  {
   "cell_type": "markdown",
   "metadata": {},
   "source": [
    "### Then we define an event by specifying its parameters:"
   ]
  },
  {
   "cell_type": "code",
   "execution_count": 7,
   "metadata": {},
   "outputs": [],
   "source": [
    "mc = 30.0 # chirp mass at the detector frame in solar masses\n",
    "η = 0.2 # symmetric mass ratio, dimensionless \n",
    "χ_1 = 0.1 # dimensionless spin of the most massive BH\n",
    "χ_2 = 0.2 # dimensionless spin of the least massive BH\n",
    "dL = 1.0 # luminosity distance in Gpc\n",
    "θ = 45. * pi/180 # latitude in radians\n",
    "ϕ = 45. * pi/180 # longitude in radians\n",
    "ι = 45. * pi/180 # inclination angle in radians\n",
    "ψ = 45. * pi/180 # polarisation angle in radians\n",
    "tcoal = 0.0 # time of coalescence in fraction of a day, [0,1]\n",
    "Φ_coal = 0.0; # phase of coalescence in radians"
   ]
  },
  {
   "cell_type": "markdown",
   "metadata": {},
   "source": [
    "We should then define an array containing the parameters:"
   ]
  },
  {
   "cell_type": "code",
   "execution_count": 8,
   "metadata": {},
   "outputs": [],
   "source": [
    "parameters = [mc, η, χ_1, χ_2, dL, θ, ϕ, ι, ψ, tcoal, Φ_coal];"
   ]
  },
  {
   "cell_type": "markdown",
   "metadata": {},
   "source": [
    "### Here we compute the SNR for our network\n",
    "\n",
    "The arguments of the SNR function are:\n",
    "- the waveform\n",
    "- a network of detectors (can either be a list of detectors or a single detector)\n",
    "- the parameters: mc, η, χ_1, χ_2, dL, θ, ϕ, ι, ψ, tcoal \n",
    "\n",
    "Notice that the SNR DOES NOT depend on the phase to coalescence Φ_coal <br > \n",
    "so the SNR function does not need it (if you include it, you will get an error)"
   ]
  },
  {
   "cell_type": "code",
   "execution_count": 9,
   "metadata": {},
   "outputs": [
    {
     "data": {
      "text/plain": [
       "777.6100165434572"
      ]
     },
     "execution_count": 9,
     "metadata": {},
     "output_type": "execute_result"
    }
   ],
   "source": [
    "snr = SNR(wfPhenomD, network, parameters[1:10]...)"
   ]
  },
  {
   "cell_type": "markdown",
   "metadata": {},
   "source": [
    "### The next step is to compute the Fisher matrix\n",
    "\n",
    "As above, the first call might be slow (up to a minute or so) because the code needs to be compiled first), each subsequent call will be blitzing fast <br >\n",
    "\n",
    "The FisherMatrix function takes the following parameters:\n",
    "- the waveform\n",
    "- a network of detectors\n",
    "- the parameters: mc, η, χ_1, χ_2, dL, θ, ϕ, ι, ψ, tcoal, Φ_coal\n",
    "\n",
    "As above the order of the paramters is important! <br >"
   ]
  },
  {
   "cell_type": "code",
   "execution_count": 10,
   "metadata": {},
   "outputs": [],
   "source": [
    "# We can now move to the Fisher matrix of that event but choose a network of detectors\n",
    "myfisher = FisherMatrix(wfPhenomD, network, parameters...);"
   ]
  },
  {
   "cell_type": "markdown",
   "metadata": {},
   "source": [
    "With this setup (BBH), the fisher is a 11x11 matrix, the order is the same as the inputs. \n",
    "The units of the fisher matrix are the inverse of the square of the units of the parameters. In particular:\n",
    "- the chirp mass is in solar masses\n",
    "- the symmetric mass ratio is dimensionless\n",
    "- the spins are dimensionless\n",
    "- the luminosity distance is in Gpc \n",
    "- the angles are in radians\n",
    "- the time of coalescence is in days\n",
    "- the phase to coalescence is in radians\n",
    "\n",
    "All uncertainties estimated below will be in the same units. The only exception to this rule is the time of coalescence, which is converted to seconds."
   ]
  },
  {
   "cell_type": "markdown",
   "metadata": {},
   "source": [
    "### Then we calculate the covariance matrix (by inverting the Fisher matrix)"
   ]
  },
  {
   "cell_type": "code",
   "execution_count": 11,
   "metadata": {},
   "outputs": [
    {
     "name": "stdout",
     "output_type": "stream",
     "text": [
      "Inversion successful\n",
      "Inversion error: 3.5037483342146415e-8\n",
      "\n"
     ]
    }
   ],
   "source": [
    "mycovariance = CovMatrix(myfisher);"
   ]
  },
  {
   "cell_type": "markdown",
   "metadata": {},
   "source": [
    "Finally we forecast the parameter uncertainties"
   ]
  },
  {
   "cell_type": "code",
   "execution_count": 12,
   "metadata": {},
   "outputs": [
    {
     "name": "stdout",
     "output_type": "stream",
     "text": [
      "The error on mc is 0.0008503378690617058\n",
      "The error on η is 0.0008092744312426696\n",
      "The error on χ_1 is 0.01593054906342642\n",
      "The error on χ_2 is 0.044362965472316176\n",
      "The error on dL is 0.007751590982753607\n",
      "The error on θ is 0.00043375280052513926\n",
      "The error on ϕ is 0.001916780891173378\n",
      "The error on ι is 0.009008652208758699\n",
      "The error on ψ is 0.011686116325357748\n",
      "The error on tcoal is 0.0006516513966047323\n",
      "The error on Φ_coal is 0.05295043311349371\n"
     ]
    }
   ],
   "source": [
    "myerrors = Errors(mycovariance)\n",
    "parameters_string = [\"mc\", \"η\", \"χ_1\", \"χ_2\", \"dL\", \"θ\", \"ϕ\", \"ι\", \"ψ\", \"tcoal\", \"Φ_coal\"]\n",
    "\n",
    "for i in eachindex(myerrors)\n",
    "    println(\"The error on $(parameters_string[i]) is $(myerrors[i])\")\n",
    "end"
   ]
  },
  {
   "cell_type": "markdown",
   "metadata": {},
   "source": [
    "For the angles, we convert to get a sky area for the event using the SkyArea function with inputs: \n",
    "- the covariance matrix\n",
    "- the latitude \n",
    "- some credible interval (in %, default is 90%)"
   ]
  },
  {
   "cell_type": "code",
   "execution_count": 13,
   "metadata": {},
   "outputs": [
    {
     "data": {
      "text/plain": [
       "0.024299845476065625"
      ]
     },
     "execution_count": 13,
     "metadata": {},
     "output_type": "execute_result"
    }
   ],
   "source": [
    "sky_area = SkyArea(mycovariance, θ, percent_level = 90)"
   ]
  },
  {
   "cell_type": "markdown",
   "metadata": {},
   "source": [
    "The angle up here is in grad, and represents the 90% credible interval "
   ]
  }
 ],
 "metadata": {
  "kernelspec": {
   "display_name": "Julia 1.10.10 1.10.10",
   "language": "julia",
   "name": "julia-1.10.10-1.10"
  },
  "language_info": {
   "file_extension": ".jl",
   "mimetype": "application/julia",
   "name": "julia",
   "version": "1.10.10"
  }
 },
 "nbformat": 4,
 "nbformat_minor": 4
}
