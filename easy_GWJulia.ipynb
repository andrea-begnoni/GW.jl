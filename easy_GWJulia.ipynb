{
 "cells": [
  {
   "cell_type": "markdown",
   "metadata": {},
   "source": [
    "# TUTORIAL\n",
    "\n",
    "Hi! First time here? You are in the right place to learn how to use the code "
   ]
  },
  {
   "cell_type": "markdown",
   "metadata": {},
   "source": [
    "## Start installing, if already install skip this part"
   ]
  },
  {
   "cell_type": "markdown",
   "metadata": {},
   "source": [
    "### Do you already have Julia installed? \n",
    "\n",
    "If not type\n",
    "\n",
    "```bash\n",
    "curl -fsSL https://install.julialang.org | sh  # for Linux and mac\n",
    "\n",
    "winget install julia -s msstore # on Windows\n",
    "```\n",
    "\n",
    "More info [here](https://github.com/JuliaLang/juliaup)"
   ]
  },
  {
   "cell_type": "markdown",
   "metadata": {},
   "source": [
    "### Let's proceed by installing the code\n",
    "\n",
    "We start by loading the path to the current directory and activating the environment"
   ]
  },
  {
   "cell_type": "code",
   "execution_count": 1,
   "metadata": {},
   "outputs": [
    {
     "name": "stderr",
     "output_type": "stream",
     "text": [
      "\u001b[32m\u001b[1m   Resolving\u001b[22m\u001b[39m package versions...\n",
      "\u001b[32m\u001b[1m  No Changes\u001b[22m\u001b[39m to `~/.julia/environments/v1.10/Project.toml`\n",
      "\u001b[32m\u001b[1m  No Changes\u001b[22m\u001b[39m to `~/.julia/environments/v1.10/Manifest.toml`\n",
      "\u001b[32m\u001b[1m  No Changes\u001b[22m\u001b[39m to `~/.julia/environments/v1.10/Project.toml`\n",
      "\u001b[32m\u001b[1m  No Changes\u001b[22m\u001b[39m to `~/.julia/environments/v1.10/Manifest.toml`\n",
      "\u001b[32m\u001b[1m  Activating\u001b[22m\u001b[39m project at `~/Media/HD2/GW.jl`\n",
      "\u001b[32m\u001b[1m  Activating\u001b[22m\u001b[39m project at `~/Media/HD2/GW.jl`\n",
      "\u001b[32m\u001b[1mPrecompiling\u001b[22m\u001b[39m packages...\n",
      "\u001b[32m\u001b[1mPrecompiling\u001b[22m\u001b[39m packages...\n",
      "    758.6 ms\u001b[32m  ✓ \u001b[39m\u001b[90mOpenMPI_jll\u001b[39m\n",
      "    912.4 ms\u001b[32m  ✓ \u001b[39m\u001b[90mMPItrampoline_jll\u001b[39m\n",
      "    758.6 ms\u001b[32m  ✓ \u001b[39m\u001b[90mOpenMPI_jll\u001b[39m\n",
      "    912.4 ms\u001b[32m  ✓ \u001b[39m\u001b[90mMPItrampoline_jll\u001b[39m\n",
      "   1005.7 ms\u001b[32m  ✓ \u001b[39m\u001b[90mFFMPEG_jll\u001b[39m\n",
      "   1005.7 ms\u001b[32m  ✓ \u001b[39m\u001b[90mFFMPEG_jll\u001b[39m\n",
      "   1033.5 ms\u001b[32m  ✓ \u001b[39m\u001b[90mQt6Base_jll\u001b[39m\n",
      "   1033.5 ms\u001b[32m  ✓ \u001b[39m\u001b[90mQt6Base_jll\u001b[39m\n",
      "    300.8 ms\u001b[32m  ✓ \u001b[39m\u001b[90mFFMPEG\u001b[39m\n",
      "    300.8 ms\u001b[32m  ✓ \u001b[39m\u001b[90mFFMPEG\u001b[39m\n",
      "   1672.3 ms\u001b[32m  ✓ \u001b[39m\u001b[90mOpenSSL\u001b[39m\n",
      "    559.8 ms\u001b[32m  ✓ \u001b[39m\u001b[90mGR_jll\u001b[39m\n",
      "   1672.3 ms\u001b[32m  ✓ \u001b[39m\u001b[90mOpenSSL\u001b[39m\n",
      "    559.8 ms\u001b[32m  ✓ \u001b[39m\u001b[90mGR_jll\u001b[39m\n",
      "   2399.2 ms\u001b[32m  ✓ \u001b[39m\u001b[90mColorVectorSpace → SpecialFunctionsExt\u001b[39m\n",
      "   2399.2 ms\u001b[32m  ✓ \u001b[39m\u001b[90mColorVectorSpace → SpecialFunctionsExt\u001b[39m\n",
      "   2025.2 ms\u001b[32m  ✓ \u001b[39m\u001b[90mHDF5_jll\u001b[39m\n",
      "   2025.2 ms\u001b[32m  ✓ \u001b[39m\u001b[90mHDF5_jll\u001b[39m\n",
      "   1914.2 ms\u001b[32m  ✓ \u001b[39m\u001b[90mHTTP\u001b[39m\n",
      "   1914.2 ms\u001b[32m  ✓ \u001b[39m\u001b[90mHTTP\u001b[39m\n",
      "   2319.2 ms\u001b[32m  ✓ \u001b[39m\u001b[90mGR\u001b[39m\n",
      "   2319.2 ms\u001b[32m  ✓ \u001b[39m\u001b[90mGR\u001b[39m\n",
      "   3981.9 ms\u001b[32m  ✓ \u001b[39mHDF5\n",
      "   3981.9 ms\u001b[32m  ✓ \u001b[39mHDF5\n",
      "   7954.1 ms\u001b[32m  ✓ \u001b[39mInterpolations → InterpolationsUnitfulExt\n",
      "   7954.1 ms\u001b[32m  ✓ \u001b[39mInterpolations → InterpolationsUnitfulExt\n",
      "  30723.8 ms\u001b[32m  ✓ \u001b[39mPlots\n",
      "  30723.8 ms\u001b[32m  ✓ \u001b[39mPlots\n",
      "   1672.1 ms\u001b[32m  ✓ \u001b[39mPlots → UnitfulExt\n",
      "   1672.1 ms\u001b[32m  ✓ \u001b[39mPlots → UnitfulExt\n",
      "  26849.9 ms\u001b[32m  ✓ \u001b[39mGW\n",
      "  16 dependencies successfully precompiled in 66 seconds. 247 already precompiled.\n",
      "  26849.9 ms\u001b[32m  ✓ \u001b[39mGW\n",
      "  16 dependencies successfully precompiled in 66 seconds. 247 already precompiled.\n"
     ]
    }
   ],
   "source": [
    "using Pkg\n",
    "\n",
    "# develop the package in the current directory\n",
    "Pkg.develop(path=pwd())\n",
    "\n",
    "# activate the environment in the current directory\n",
    "Pkg.activate(\".\") \n",
    "\n",
    "# install the eventually needed dependencies \n",
    "# may take a few minutes the first time this is executed\n",
    "Pkg.instantiate() "
   ]
  },
  {
   "cell_type": "markdown",
   "metadata": {},
   "source": [
    "This installs the code (the package is not in the registry so should be installed manually)"
   ]
  },
  {
   "cell_type": "code",
   "execution_count": 1,
   "metadata": {},
   "outputs": [],
   "source": [
    "using GW"
   ]
  },
  {
   "cell_type": "markdown",
   "metadata": {},
   "source": [
    "We can then run some tests to make sure everything is ok"
   ]
  },
  {
   "cell_type": "code",
   "execution_count": 26,
   "metadata": {},
   "outputs": [],
   "source": [
    "using Base.Threads\n",
    "\n",
    "# Check if Test/BenchmarkTools are installed, if not install them\n",
    "try\n",
    "    using Test\n",
    "catch e\n",
    "    Pkg.add(\"Test\") \n",
    "    using Test\n",
    "end\n",
    "\n",
    "try\n",
    "    using BenchmarkTools\n",
    "catch e\n",
    "    Pkg.add(\"BenchmarkTools\") \n",
    "    using BenchmarkTools\n",
    "end"
   ]
  },
  {
   "cell_type": "markdown",
   "metadata": {},
   "source": [
    "Check how many threads can run in parallel"
   ]
  },
  {
   "cell_type": "code",
   "execution_count": 7,
   "metadata": {},
   "outputs": [
    {
     "data": {
      "text/plain": [
       "100"
      ]
     },
     "execution_count": 7,
     "metadata": {},
     "output_type": "execute_result"
    }
   ],
   "source": [
    "nthreads()"
   ]
  },
  {
   "cell_type": "markdown",
   "metadata": {},
   "source": [
    "if the cell above returns 1, you need to change your .bashrc file to include the following line:\n",
    "\n",
    "```\n",
    "export JULIA_NUM_THREADS = the_number_of_threads_of_your_cpu \n",
    "```\n",
    "\n",
    "e.g.\n",
    "\n",
    "```\n",
    "export JULIA_NUM_THREADS = 8\n",
    "```\n",
    "\n",
    "then restart the terminal, or use\n",
    "\n",
    "```\n",
    "source ~/.bashrc\n",
    "```"
   ]
  },
  {
   "cell_type": "markdown",
   "metadata": {},
   "source": [
    "## Let's move into the actual code \n",
    "### GWJulia is very easy to use\n",
    "Before detailing the functionalities here we show a minimal example of the code <br >\n",
    "Start genearting a list of events (here 1000)"
   ]
  },
  {
   "cell_type": "code",
   "execution_count": 2,
   "metadata": {},
   "outputs": [
    {
     "name": "stdout",
     "output_type": "stream",
     "text": [
      "Name of the catalog: catalogs/catalog_BBH_n_2_Madau&Dickinson_td_10.0Myrs.h5\n"
     ]
    }
   ],
   "source": [
    "parameters = GenerateCatalog(2, \"BBH\"); "
   ]
  },
  {
   "cell_type": "markdown",
   "metadata": {},
   "source": [
    "The next step is to compute the fishers for those events for a list of detectors"
   ]
  },
  {
   "cell_type": "code",
   "execution_count": 3,
   "metadata": {},
   "outputs": [
    {
     "name": "stdout",
     "output_type": "stream",
     "text": [
      "Fisher matrices computed!\n",
      "The evaluation took: 37.948340737 seconds.\n"
     ]
    }
   ],
   "source": [
    "# choose the waveform model you want to use, here we use PhenomD (for others see below)\n",
    "waveform = PhenomD()\n",
    "\n",
    "# define the list of detectors you want to use\n",
    "detectors = [CE1Id, CE2NM, ETS]\n",
    "\n",
    "# calculate the Fisher matrix\n",
    "Fishers = FisherMatrix(PhenomD(), detectors, parameters...);"
   ]
  },
  {
   "cell_type": "markdown",
   "metadata": {},
   "source": [
    "NB: The first run is slow because the code is compiling a lot of stuff! <br >\n",
    "Try again with many more events (say 1000)"
   ]
  },
  {
   "cell_type": "code",
   "execution_count": 8,
   "metadata": {},
   "outputs": [
    {
     "name": "stdout",
     "output_type": "stream",
     "text": [
      "Name of the catalog: catalogs/catalog_BBH_n_1000_Madau&Dickinson_td_10.0Myrs.h5\n"
     ]
    }
   ],
   "source": [
    "parameters = GenerateCatalog(1_000, \"BBH\"); "
   ]
  },
  {
   "cell_type": "code",
   "execution_count": 9,
   "metadata": {},
   "outputs": [
    {
     "name": "stderr",
     "output_type": "stream",
     "text": [
      "\u001b[32mComputing Fishers... 100%|███████████████████████████████| Time: 0:00:04\u001b[39m\n"
     ]
    },
    {
     "name": "stdout",
     "output_type": "stream",
     "text": [
      "Fisher matrices computed!\n",
      "The evaluation took: 4.991950687 seconds.\n"
     ]
    }
   ],
   "source": [
    "Fishers = FisherMatrix(PhenomD(), detectors, parameters...);"
   ]
  },
  {
   "cell_type": "markdown",
   "metadata": {},
   "source": [
    "Indeed now it is much much faster!"
   ]
  },
  {
   "cell_type": "markdown",
   "metadata": {},
   "source": [
    "### If you want to see more go to the example folder, there are several notebooks there"
   ]
  },
  {
   "cell_type": "markdown",
   "metadata": {},
   "source": [
    "# If you need more help"
   ]
  },
  {
   "cell_type": "code",
   "execution_count": null,
   "metadata": {},
   "outputs": [],
   "source": [
    "# each function that is exported (so the ones that you can use) has a docstring, \n",
    "# so you can use the help function to see the documentation\n",
    "\n",
    "# VSCode has some issues displaying the docstring, so you can use the help function in the REPL\n",
    "# enter julia in the terminal, activate the project (use the correct path for your machine) and \n",
    "# then in help mode type the name of the function you want to know more about"
   ]
  },
  {
   "cell_type": "markdown",
   "metadata": {},
   "source": [
    "```julia\n",
    "using Pkg; Pkg.activate(\"GW.jl\"); using GW\n",
    "? # enter in help mode\n",
    "hphc    # example of a function to search the docs\n",
    "```"
   ]
  },
  {
   "cell_type": "markdown",
   "metadata": {},
   "source": [
    "![attachment:image.png](useful_files/help.png)"
   ]
  },
  {
   "cell_type": "code",
   "execution_count": null,
   "metadata": {},
   "outputs": [],
   "source": [
    "# Moreover if you do not remember the name of a function you can use \n",
    "println(names(GW))\n",
    "# to see all the functions exported by the package"
   ]
  }
 ],
 "metadata": {
  "kernelspec": {
   "display_name": "Julia 1.10.10 1.10.10",
   "language": "julia",
   "name": "julia-1.10.10-1.10"
  },
  "language_info": {
   "file_extension": ".jl",
   "mimetype": "application/julia",
   "name": "julia",
   "version": "1.10.10"
  }
 },
 "nbformat": 4,
 "nbformat_minor": 4
}
